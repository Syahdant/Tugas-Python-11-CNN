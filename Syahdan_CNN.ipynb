{
  "nbformat": 4,
  "nbformat_minor": 0,
  "metadata": {
    "colab": {
      "name": "Syahdan CNN.ipynb",
      "provenance": [],
      "mount_file_id": "1AN7fhEWvJDla2eJn1k3yLJ5GIF8Mm-6A",
      "authorship_tag": "ABX9TyO+y7Cv/FTQEl17U2KpkLYf",
      "include_colab_link": true
    },
    "kernelspec": {
      "name": "python3",
      "display_name": "Python 3"
    }
  },
  "cells": [
    {
      "cell_type": "markdown",
      "metadata": {
        "id": "view-in-github",
        "colab_type": "text"
      },
      "source": [
        "<a href=\"https://colab.research.google.com/github/Syahdant/Tugas-Python-11-CNN/blob/main/Syahdan_CNN.ipynb\" target=\"_parent\"><img src=\"https://colab.research.google.com/assets/colab-badge.svg\" alt=\"Open In Colab\"/></a>"
      ]
    },
    {
      "cell_type": "code",
      "metadata": {
        "colab": {
          "base_uri": "https://localhost:8080/"
        },
        "id": "rWfWkJvxRMuJ",
        "outputId": "d9ac4386-711a-4ee8-f2b1-2a40e6f25cc9"
      },
      "source": [
        "from google.colab import drive\n",
        "drive.mount('/content/drive')"
      ],
      "execution_count": 1,
      "outputs": [
        {
          "output_type": "stream",
          "text": [
            "Drive already mounted at /content/drive; to attempt to forcibly remount, call drive.mount(\"/content/drive\", force_remount=True).\n"
          ],
          "name": "stdout"
        }
      ]
    },
    {
      "cell_type": "code",
      "metadata": {
        "colab": {
          "base_uri": "https://localhost:8080/"
        },
        "id": "DAdtbUBtRPMa",
        "outputId": "7a7587c7-9752-4631-83fe-e1cf7db79e6e"
      },
      "source": [
        "cd /content/drive/MyDrive/Google Colab"
      ],
      "execution_count": 2,
      "outputs": [
        {
          "output_type": "stream",
          "text": [
            "/content/drive/MyDrive/Google Colab\n"
          ],
          "name": "stdout"
        }
      ]
    },
    {
      "cell_type": "code",
      "metadata": {
        "colab": {
          "base_uri": "https://localhost:8080/"
        },
        "id": "YhE7Y7AxRpon",
        "outputId": "95e533c3-86ff-471f-cb59-3b2cb0d70f67"
      },
      "source": [
        "ls"
      ],
      "execution_count": 3,
      "outputs": [
        {
          "output_type": "stream",
          "text": [
            "\u001b[0m\u001b[01;34mMotor\u001b[0m/\n"
          ],
          "name": "stdout"
        }
      ]
    },
    {
      "cell_type": "code",
      "metadata": {
        "id": "MpP_MlVdRqaj"
      },
      "source": [
        "from keras.models import Sequential\n",
        "from keras.layers.convolutional import Conv2D\n",
        "from keras.layers.convolutional import MaxPooling2D\n",
        "from keras.layers.core import Activation\n",
        "from keras.layers.core import Flatten\n",
        "from keras.layers.core import Dense\n",
        "from keras.optimizers import Adam\n",
        "from sklearn.preprocessing import LabelBinarizer\n",
        "from sklearn.model_selection import train_test_split\n",
        "from sklearn.metrics import classification_report\n",
        "from PIL import Image\n",
        "from imutils import paths\n",
        "import numpy as np\n",
        "import os"
      ],
      "execution_count": 4,
      "outputs": []
    },
    {
      "cell_type": "code",
      "metadata": {
        "colab": {
          "base_uri": "https://localhost:8080/"
        },
        "id": "oP1qeUTxRujl",
        "outputId": "fbac7949-f8a2-46a5-c5c4-0c46a6b678d1"
      },
      "source": [
        "print(\"[INFO] loading images...\")\n",
        "imagePaths = paths.list_images(\"Motor\")\n",
        "data = []\n",
        "labels = []"
      ],
      "execution_count": 5,
      "outputs": [
        {
          "output_type": "stream",
          "text": [
            "[INFO] loading images...\n"
          ],
          "name": "stdout"
        }
      ]
    },
    {
      "cell_type": "code",
      "metadata": {
        "id": "2clcnHPIRy0a"
      },
      "source": [
        "for imagePath in imagePaths:\n",
        "\t# load the input image from disk, resize it to 64x64 pixels, scale\n",
        "\t# the pixel intensities to the range [0, 1], and then update our\n",
        "\t# images list\n",
        "\timage = Image.open(imagePath)\n",
        "\timage = np.array(image.resize((224, 224))) / 255.0\n",
        "\tdata.append(image)\n",
        "\n",
        "\t# extract the class label from the file path and update the\n",
        "\t# labels list\n",
        "\tlabel = imagePath.split(os.path.sep)[-2]\n",
        "\tlabels.append(label)"
      ],
      "execution_count": 6,
      "outputs": []
    },
    {
      "cell_type": "code",
      "metadata": {
        "colab": {
          "base_uri": "https://localhost:8080/"
        },
        "id": "EnqvR1iTS1Mu",
        "outputId": "29f7f9c4-b0fc-414e-bb30-0e8bcecdec90"
      },
      "source": [
        "print(labels)"
      ],
      "execution_count": 7,
      "outputs": [
        {
          "output_type": "stream",
          "text": [
            "['adventure', 'adventure', 'adventure', 'adventure', 'adventure', 'naked', 'naked', 'naked', 'naked', 'naked', 'sport', 'sport', 'sport', 'sport', 'sport']\n"
          ],
          "name": "stdout"
        }
      ]
    },
    {
      "cell_type": "code",
      "metadata": {
        "id": "1zNiWa8LS4kh"
      },
      "source": [
        "lb = LabelBinarizer()\n",
        "labels = lb.fit_transform(labels)"
      ],
      "execution_count": 8,
      "outputs": []
    },
    {
      "cell_type": "code",
      "metadata": {
        "colab": {
          "base_uri": "https://localhost:8080/"
        },
        "id": "2qcmh9ifS7LK",
        "outputId": "4c331fa6-25a1-473e-94c2-7b2dbbc698a7"
      },
      "source": [
        "print(labels)"
      ],
      "execution_count": 9,
      "outputs": [
        {
          "output_type": "stream",
          "text": [
            "[[1 0 0]\n",
            " [1 0 0]\n",
            " [1 0 0]\n",
            " [1 0 0]\n",
            " [1 0 0]\n",
            " [0 1 0]\n",
            " [0 1 0]\n",
            " [0 1 0]\n",
            " [0 1 0]\n",
            " [0 1 0]\n",
            " [0 0 1]\n",
            " [0 0 1]\n",
            " [0 0 1]\n",
            " [0 0 1]\n",
            " [0 0 1]]\n"
          ],
          "name": "stdout"
        }
      ]
    },
    {
      "cell_type": "code",
      "metadata": {
        "colab": {
          "base_uri": "https://localhost:8080/"
        },
        "id": "Bflexlx2S9eP",
        "outputId": "8d80f22e-127e-41d8-bf4a-9cb3b32fa7ff"
      },
      "source": [
        "(trainX, testX, trainY, testY) = train_test_split(np.array(data),\tnp.array(labels), test_size=0.25,shuffle=True)\n",
        "print(trainX.shape)\n",
        "print(testX.shape)"
      ],
      "execution_count": 10,
      "outputs": [
        {
          "output_type": "stream",
          "text": [
            "(11, 224, 224, 3)\n",
            "(4, 224, 224, 3)\n"
          ],
          "name": "stdout"
        }
      ]
    },
    {
      "cell_type": "code",
      "metadata": {
        "colab": {
          "base_uri": "https://localhost:8080/"
        },
        "id": "gUr-klTbTBCQ",
        "outputId": "d63d1de6-6910-4caf-9c25-d75f786440f1"
      },
      "source": [
        "from keras.layers import Convolution2D, MaxPooling2D\n",
        "from keras.models import Sequential\n",
        "from keras.layers.core import Flatten, Dense\n",
        "\n",
        "model1 = Sequential()\n",
        "model1.add(Convolution2D(15, 3,3, activation='relu', input_shape=(224,224,3)))\n",
        "model1.add(MaxPooling2D(2,2))\n",
        "model1.add(Convolution2D(30, 3,3, activation='relu'))\n",
        "model1.add(MaxPooling2D(2,2))\n",
        "model1.add(Convolution2D(25, 3,3, activation='relu'))\n",
        "model1.add(MaxPooling2D(2,2))\n",
        "\n",
        "model1.add(Flatten())\n",
        "model1.add(Dense(100, activation='relu'))\n",
        "model1.add(Dense(3, activation='softmax'))\n",
        "\n",
        "model1.summary() "
      ],
      "execution_count": 11,
      "outputs": [
        {
          "output_type": "stream",
          "text": [
            "Model: \"sequential\"\n",
            "_________________________________________________________________\n",
            "Layer (type)                 Output Shape              Param #   \n",
            "=================================================================\n",
            "conv2d (Conv2D)              (None, 74, 74, 15)        420       \n",
            "_________________________________________________________________\n",
            "max_pooling2d (MaxPooling2D) (None, 37, 37, 15)        0         \n",
            "_________________________________________________________________\n",
            "conv2d_1 (Conv2D)            (None, 12, 12, 30)        4080      \n",
            "_________________________________________________________________\n",
            "max_pooling2d_1 (MaxPooling2 (None, 6, 6, 30)          0         \n",
            "_________________________________________________________________\n",
            "conv2d_2 (Conv2D)            (None, 2, 2, 25)          6775      \n",
            "_________________________________________________________________\n",
            "max_pooling2d_2 (MaxPooling2 (None, 1, 1, 25)          0         \n",
            "_________________________________________________________________\n",
            "flatten (Flatten)            (None, 25)                0         \n",
            "_________________________________________________________________\n",
            "dense (Dense)                (None, 100)               2600      \n",
            "_________________________________________________________________\n",
            "dense_1 (Dense)              (None, 3)                 303       \n",
            "=================================================================\n",
            "Total params: 14,178\n",
            "Trainable params: 14,178\n",
            "Non-trainable params: 0\n",
            "_________________________________________________________________\n"
          ],
          "name": "stdout"
        }
      ]
    },
    {
      "cell_type": "code",
      "metadata": {
        "colab": {
          "base_uri": "https://localhost:8080/"
        },
        "id": "W4_Yop1RZ-Wi",
        "outputId": "2ed6e079-c3d7-4091-d06b-a617d08bfd5b"
      },
      "source": [
        "print(\"[INFO] training network...\")\n",
        "opt = Adam(lr=1e-3, decay=1e-3 / 50)\n",
        "model1.compile(loss=\"categorical_crossentropy\", optimizer=opt,\n",
        "\tmetrics=[\"accuracy\"])\n",
        "H = model1.fit(trainX, trainY, validation_data=(testX, testY), epochs=25, batch_size=5)"
      ],
      "execution_count": 12,
      "outputs": [
        {
          "output_type": "stream",
          "text": [
            "[INFO] training network...\n",
            "Epoch 1/25\n",
            "3/3 [==============================] - 0s 68ms/step - loss: 1.0888 - accuracy: 0.4545 - val_loss: 1.0945 - val_accuracy: 0.2500\n",
            "Epoch 2/25\n",
            "3/3 [==============================] - 0s 15ms/step - loss: 1.0651 - accuracy: 0.3636 - val_loss: 1.1224 - val_accuracy: 0.2500\n",
            "Epoch 3/25\n",
            "3/3 [==============================] - 0s 16ms/step - loss: 1.0543 - accuracy: 0.3636 - val_loss: 1.1410 - val_accuracy: 0.2500\n",
            "Epoch 4/25\n",
            "3/3 [==============================] - 0s 19ms/step - loss: 1.0412 - accuracy: 0.3636 - val_loss: 1.1503 - val_accuracy: 0.2500\n",
            "Epoch 5/25\n",
            "3/3 [==============================] - 0s 15ms/step - loss: 1.0281 - accuracy: 0.3636 - val_loss: 1.1651 - val_accuracy: 0.2500\n",
            "Epoch 6/25\n",
            "3/3 [==============================] - 0s 15ms/step - loss: 1.0111 - accuracy: 0.4545 - val_loss: 1.1764 - val_accuracy: 0.2500\n",
            "Epoch 7/25\n",
            "3/3 [==============================] - 0s 15ms/step - loss: 0.9938 - accuracy: 0.4545 - val_loss: 1.1886 - val_accuracy: 0.2500\n",
            "Epoch 8/25\n",
            "3/3 [==============================] - 0s 15ms/step - loss: 0.9779 - accuracy: 0.5455 - val_loss: 1.1909 - val_accuracy: 0.5000\n",
            "Epoch 9/25\n",
            "3/3 [==============================] - 0s 18ms/step - loss: 0.9617 - accuracy: 0.8182 - val_loss: 1.1503 - val_accuracy: 0.5000\n",
            "Epoch 10/25\n",
            "3/3 [==============================] - 0s 15ms/step - loss: 0.9420 - accuracy: 0.8182 - val_loss: 1.1491 - val_accuracy: 0.5000\n",
            "Epoch 11/25\n",
            "3/3 [==============================] - 0s 15ms/step - loss: 0.9313 - accuracy: 0.8182 - val_loss: 1.1556 - val_accuracy: 0.5000\n",
            "Epoch 12/25\n",
            "3/3 [==============================] - 0s 15ms/step - loss: 0.9001 - accuracy: 0.8182 - val_loss: 1.1286 - val_accuracy: 0.5000\n",
            "Epoch 13/25\n",
            "3/3 [==============================] - 0s 15ms/step - loss: 0.8674 - accuracy: 0.8182 - val_loss: 1.1311 - val_accuracy: 0.5000\n",
            "Epoch 14/25\n",
            "3/3 [==============================] - 0s 14ms/step - loss: 0.8184 - accuracy: 0.8182 - val_loss: 1.1948 - val_accuracy: 0.5000\n",
            "Epoch 15/25\n",
            "3/3 [==============================] - 0s 15ms/step - loss: 0.7925 - accuracy: 0.8182 - val_loss: 1.2829 - val_accuracy: 0.2500\n",
            "Epoch 16/25\n",
            "3/3 [==============================] - 0s 17ms/step - loss: 0.7706 - accuracy: 0.6364 - val_loss: 1.2968 - val_accuracy: 0.5000\n",
            "Epoch 17/25\n",
            "3/3 [==============================] - 0s 15ms/step - loss: 0.7190 - accuracy: 0.8182 - val_loss: 1.2481 - val_accuracy: 0.5000\n",
            "Epoch 18/25\n",
            "3/3 [==============================] - 0s 15ms/step - loss: 0.6697 - accuracy: 0.8182 - val_loss: 1.1725 - val_accuracy: 0.5000\n",
            "Epoch 19/25\n",
            "3/3 [==============================] - 0s 15ms/step - loss: 0.6337 - accuracy: 0.8182 - val_loss: 1.1951 - val_accuracy: 0.5000\n",
            "Epoch 20/25\n",
            "3/3 [==============================] - 0s 16ms/step - loss: 0.5844 - accuracy: 0.8182 - val_loss: 1.1330 - val_accuracy: 0.5000\n",
            "Epoch 21/25\n",
            "3/3 [==============================] - 0s 15ms/step - loss: 0.4934 - accuracy: 0.9091 - val_loss: 0.9387 - val_accuracy: 0.5000\n",
            "Epoch 22/25\n",
            "3/3 [==============================] - 0s 15ms/step - loss: 0.4529 - accuracy: 1.0000 - val_loss: 0.9665 - val_accuracy: 0.5000\n",
            "Epoch 23/25\n",
            "3/3 [==============================] - 0s 15ms/step - loss: 0.4230 - accuracy: 1.0000 - val_loss: 0.9346 - val_accuracy: 0.5000\n",
            "Epoch 24/25\n",
            "3/3 [==============================] - 0s 15ms/step - loss: 0.3489 - accuracy: 1.0000 - val_loss: 0.7879 - val_accuracy: 0.7500\n",
            "Epoch 25/25\n",
            "3/3 [==============================] - 0s 17ms/step - loss: 0.3301 - accuracy: 1.0000 - val_loss: 0.7213 - val_accuracy: 1.0000\n"
          ],
          "name": "stdout"
        }
      ]
    },
    {
      "cell_type": "code",
      "metadata": {
        "colab": {
          "base_uri": "https://localhost:8080/",
          "height": 590
        },
        "id": "u7A56EN5aTif",
        "outputId": "ac3da024-d248-4ced-d6a6-3ed82d7e2c2d"
      },
      "source": [
        "import matplotlib.pyplot as plt\n",
        "print(H.history.keys())\n",
        "# summarize history for accuracy\n",
        "plt.plot(H.history['accuracy'])\n",
        "plt.plot(H.history['val_accuracy'])\n",
        "plt.title('model accuracy')\n",
        "plt.ylabel('accuracy')\n",
        "plt.xlabel('epoch')\n",
        "plt.legend(['train', 'test'], loc='upper left')\n",
        "plt.show()\n",
        "# summarize history for loss\n",
        "plt.plot(H.history['loss'])\n",
        "plt.plot(H.history['val_loss'])\n",
        "plt.title('model loss')\n",
        "plt.ylabel('loss')\n",
        "plt.xlabel('epoch')\n",
        "plt.legend(['train', 'test'], loc='upper left')\n",
        "plt.show()"
      ],
      "execution_count": 13,
      "outputs": [
        {
          "output_type": "stream",
          "text": [
            "dict_keys(['loss', 'accuracy', 'val_loss', 'val_accuracy'])\n"
          ],
          "name": "stdout"
        },
        {
          "output_type": "display_data",
          "data": {
            "image/png": "[encoded data removed]",
            "text/plain": [
              "<Figure size 432x288 with 1 Axes>"
            ]
          },
          "metadata": {
            "tags": [],
            "needs_background": "light"
          }
        },
        {
          "output_type": "display_data",
          "data": {
            "image/png": "[encoded data removed]",
            "text/plain": [
              "<Figure size 432x288 with 1 Axes>"
            ]
          },
          "metadata": {
            "tags": [],
            "needs_background": "light"
          }
        }
      ]
    },
    {
      "cell_type": "code",
      "metadata": {
        "colab": {
          "base_uri": "https://localhost:8080/"
        },
        "id": "dPH4p12pajIj",
        "outputId": "ce4d7c0a-56d8-4d43-b9ce-b32e1799c891"
      },
      "source": [
        "print(\"[INFO] evaluating network...\")\n",
        "predictions = model1.predict(testX, batch_size=5)\n",
        "print(classification_report(testY.argmax(axis=1),\n",
        "\tpredictions.argmax(axis=1), target_names=lb.classes_))"
      ],
      "execution_count": 14,
      "outputs": [
        {
          "output_type": "stream",
          "text": [
            "[INFO] evaluating network...\n",
            "              precision    recall  f1-score   support\n",
            "\n",
            "   adventure       1.00      1.00      1.00         1\n",
            "       naked       1.00      1.00      1.00         1\n",
            "       sport       1.00      1.00      1.00         2\n",
            "\n",
            "    accuracy                           1.00         4\n",
            "   macro avg       1.00      1.00      1.00         4\n",
            "weighted avg       1.00      1.00      1.00         4\n",
            "\n"
          ],
          "name": "stdout"
        }
      ]
    }
  ]
}